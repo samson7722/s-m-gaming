{
 "metadata": {
  "language_info": {
   "codemirror_mode": {
    "name": "ipython",
    "version": 3
   },
   "file_extension": ".py",
   "mimetype": "text/x-python",
   "name": "python",
   "nbconvert_exporter": "python",
   "pygments_lexer": "ipython3",
   "version": "3.8.5-final"
  },
  "orig_nbformat": 2,
  "kernelspec": {
   "name": "python3",
   "display_name": "Python 3",
   "language": "python"
  }
 },
 "nbformat": 4,
 "nbformat_minor": 2,
 "cells": [
  {
   "cell_type": "code",
   "execution_count": 1,
   "metadata": {},
   "outputs": [
    {
     "output_type": "stream",
     "name": "stdout",
     "text": [
      "Requirement already satisfied: WMI in c:\\users\\guest1\\anaconda3\\lib\\site-packages (1.5.1)\nRequirement already satisfied: pywin32 in c:\\users\\guest1\\anaconda3\\lib\\site-packages (from WMI) (227)\nNote: you may need to restart the kernel to use updated packages.\n"
     ]
    }
   ],
   "source": [
    "pip install WMI\n"
   ]
  },
  {
   "cell_type": "code",
   "execution_count": 11,
   "metadata": {},
   "outputs": [
    {
     "output_type": "stream",
     "name": "stdout",
     "text": [
      "memory use: 0.050128936767578125\n"
     ]
    }
   ],
   "source": [
    "import os\n",
    "import psutil\n",
    "pid = os.getpid()\n",
    "py = psutil.Process(pid)\n",
    "memoryUse = py.memory_info()[0]/2.**30  # memory use in GB...I think\n",
    "print('memory use:', memoryUse)"
   ]
  },
  {
   "cell_type": "code",
   "execution_count": null,
   "metadata": {},
   "outputs": [],
   "source": []
  }
 ]
}